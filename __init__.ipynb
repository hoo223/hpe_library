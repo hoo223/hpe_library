{
 "cells": [
  {
   "cell_type": "code",
   "execution_count": 8,
   "metadata": {},
   "outputs": [
    {
     "name": "stdout",
     "output_type": "stream",
     "text": [
      "The autoreload extension is already loaded. To reload it, use:\n",
      "  %reload_ext autoreload\n",
      "root: /home/hrai/codes\n"
     ]
    }
   ],
   "source": [
    "# To get all the functions and classes in my_utils\n",
    "%load_ext autoreload\n",
    "%autoreload 2\n",
    "# import necessary libraries\n",
    "import os, sys, getpass\n",
    "# register the root directory path\n",
    "user = getpass.getuser()\n",
    "root = f'/home/{user}/codes'\n",
    "print(f\"root: {root}\")\n",
    "sys.path.append(root)\n",
    "from hpe_library.lib_import import *"
   ]
  },
  {
   "cell_type": "markdown",
   "metadata": {},
   "source": [
    "### hpe_library/my_utils"
   ]
  },
  {
   "cell_type": "code",
   "execution_count": 9,
   "metadata": {},
   "outputs": [
    {
     "name": "stdout",
     "output_type": "stream",
     "text": [
      "init_py_path: my_utils/__init__.py\n",
      "lib_root: /home/hrai/codes/hpe_library/my_utils\n",
      "Gnerating my_utils/__init__.py\n",
      "Done: /home/hrai/codes/hpe_library/my_utils/__init__.py\n"
     ]
    }
   ],
   "source": [
    "# set the library path\n",
    "lib_root = f'/home/{user}/codes/hpe_library/my_utils'\n",
    "utils_root = lib_root\n",
    "init_py_path = f'{utils_root}/__init__.py'\n",
    "if os.path.exists(init_py_path): os.remove(init_py_path)\n",
    "\n",
    "# import the modules\n",
    "#from my_utils import camera, config, dataset, dh, inference, logger, model, test_utils, train, visualization, kookmin_dataset, notion, canonical, data_aug, mpi_inf_3dhp\n",
    "# set the module list\n",
    "#module_list = [camera, config, dataset, dh, inference, logger, model, test_utils, train, visualization, kookmin_dataset, notion, canonical, data_aug, mpi_inf_3dhp]\n",
    "# set the module list\n",
    "module_list = []\n",
    "for module_path in glob(lib_root+'/**/*.py', recursive=True):\n",
    "    if '__init__' in module_path: continue\n",
    "    module_name = f\"{os.path.dirname(module_path).split(root)[-1][1:].replace('/', '.')}.{os.path.basename(module_path).split('.py')[0]}\" \n",
    "    module = import_module_from_path(module_name, module_path)\n",
    "    module_list.append(module)\n",
    "# import the exceptions\n",
    "from hpe_library.lib_import import lib_except_my_utils\n",
    "\n",
    "# generate the __init__.py file\n",
    "generate_init_py(module_list, root, lib_root, utils_root, lib_except_my_utils, verbose=False)"
   ]
  },
  {
   "cell_type": "code",
   "execution_count": 4,
   "metadata": {},
   "outputs": [],
   "source": [
    "# print(*[i for i in getmembers(camera, isfunction) if i[1] not in lib_except_my_utils], sep='\\n')"
   ]
  },
  {
   "cell_type": "markdown",
   "metadata": {},
   "source": [
    "### hpe_library/ipywidgets_utils"
   ]
  },
  {
   "cell_type": "code",
   "execution_count": 16,
   "metadata": {},
   "outputs": [
    {
     "name": "stdout",
     "output_type": "stream",
     "text": [
      "init_py_path: ipywidgets_utils/__init__.py\n",
      "lib_root: /home/hrai/codes/hpe_library/ipywidgets_utils\n",
      "Gnerating ipywidgets_utils/__init__.py\n",
      "Done: /home/hrai/codes/hpe_library/ipywidgets_utils/__init__.py\n"
     ]
    }
   ],
   "source": [
    "# set the library path\n",
    "lib_root = f'/home/{user}/codes/hpe_library/ipywidgets_utils'\n",
    "utils_root = lib_root\n",
    "init_py_path = f'{utils_root}/__init__.py'\n",
    "if os.path.exists(init_py_path): os.remove(init_py_path)\n",
    "\n",
    "# # import the modules\n",
    "# from ipywidgets_utils import button, dropdown, play, progress, _select, slider, text\n",
    "# # set the module list\n",
    "# module_list = [button, dropdown, play, progress, _select, slider, text]\n",
    "\n",
    "# set the module list\n",
    "module_list = []\n",
    "for module_path in glob(lib_root+'/**/*.py', recursive=True):\n",
    "    if '__init__' in module_path: continue\n",
    "    module_name = f\"{os.path.dirname(module_path).split(root)[-1][1:].replace('/', '.')}.{os.path.basename(module_path).split('.py')[0]}\" \n",
    "    module = import_module_from_path(module_name, module_path)\n",
    "    module_list.append(module)\n",
    "# import the exceptions\n",
    "from hpe_library.lib_import import lib_except_my_utils\n",
    "\n",
    "# generate the __init__.py file\n",
    "generate_init_py(module_list, root, lib_root, utils_root, lib_except_my_utils, verbose=False)"
   ]
  },
  {
   "cell_type": "markdown",
   "metadata": {},
   "source": [
    "### hpe_library/motionbert_utils"
   ]
  },
  {
   "cell_type": "code",
   "execution_count": 17,
   "metadata": {},
   "outputs": [
    {
     "name": "stdout",
     "output_type": "stream",
     "text": [
      "init_py_path: motionbert_utils/__init__.py\n",
      "lib_root: /home/hrai/codes/MotionBERT/lib\n",
      "Gnerating motionbert_utils/__init__.py\n",
      "Done: /home/hrai/codes/hpe_library/motionbert_utils/__init__.py\n"
     ]
    }
   ],
   "source": [
    "# set the library path\n",
    "lib_root = f'/home/{user}/codes/MotionBERT/lib'\n",
    "utils_root = f'/home/{user}/codes/hpe_library/motionbert_utils'\n",
    "init_py_path = f'{utils_root}/__init__.py'\n",
    "if os.path.exists(init_py_path): os.remove(init_py_path)\n",
    "# import the modules\n",
    "# from MotionBERT.lib.utils import tools, learning, args, utils_data\n",
    "# from MotionBERT.lib.model import loss, evaluation, DHDSTformer\n",
    "# from MotionBERT.lib.data import datareader_kookmin, datareader_h36m, datareader_fit3d, datareader_random_limb, dataset_motion_3d\n",
    "# set the module list\n",
    "# module_list = [tools, learning, args, utils_data, loss, evaluation, DHDSTformer, datareader_kookmin, datareader_h36m, datareader_fit3d, datareader_random_limb, dataset_motion_3d]\n",
    "module_list = []\n",
    "for module_path in glob(lib_root+'/**/*.py', recursive=True):\n",
    "    if '__init__' in module_path: continue\n",
    "    module_name = f\"{os.path.dirname(module_path).split(root)[-1][1:].replace('/', '.')}.{os.path.basename(module_path).split('.py')[0]}\" \n",
    "    #print(module_path, module_name)\n",
    "    module = import_module_from_path(module_name, module_path)\n",
    "    module_list.append(module)\n",
    "# import the exceptions\n",
    "from hpe_library.lib_import import lib_except_my_utils\n",
    "\n",
    "# generate the __init__.py file\n",
    "generate_init_py(module_list, root, lib_root, utils_root, lib_except_my_utils, verbose=False)"
   ]
  },
  {
   "cell_type": "markdown",
   "metadata": {},
   "source": [
    "### hpe_library/camera_models_utils"
   ]
  },
  {
   "cell_type": "code",
   "execution_count": 18,
   "metadata": {},
   "outputs": [
    {
     "name": "stdout",
     "output_type": "stream",
     "text": [
      "init_py_path: camera_models_utils/__init__.py\n",
      "lib_root: /home/hrai/codes/camera_models/camera_models\n",
      "Gnerating camera_models_utils/__init__.py\n",
      "Done: /home/hrai/codes/hpe_library/camera_models_utils/__init__.py\n"
     ]
    }
   ],
   "source": [
    "# set the library path\n",
    "lib_root = f'/home/{user}/codes/camera_models/camera_models'\n",
    "utils_root = f'/home/{user}/codes/hpe_library/camera_models_utils'\n",
    "# set the module list\n",
    "module_list = []\n",
    "for module_path in glob(lib_root+'/**/*.py', recursive=True):\n",
    "    if '__init__' in module_path: continue\n",
    "    #print(module_path)\n",
    "    module_name = f\"{os.path.dirname(module_path).split(root)[-1][1:].replace('/', '.')}.{os.path.basename(module_path).split('.py')[0]}\" \n",
    "    module = import_module_from_path(module_name, module_path)\n",
    "    #print(module, getmembers(module, isfunction))\n",
    "    module_list.append(module)\n",
    "# import the exceptions\n",
    "from hpe_library.lib_import import lib_except_my_utils\n",
    "\n",
    "# generate the __init__.py file\n",
    "generate_init_py(module_list, root, lib_root, utils_root, lib_except_my_utils, verbose=False)"
   ]
  }
 ],
 "metadata": {
  "kernelspec": {
   "display_name": "adaptpose",
   "language": "python",
   "name": "python3"
  },
  "language_info": {
   "codemirror_mode": {
    "name": "ipython",
    "version": 3
   },
   "file_extension": ".py",
   "mimetype": "text/x-python",
   "name": "python",
   "nbconvert_exporter": "python",
   "pygments_lexer": "ipython3",
   "version": "3.9.18"
  }
 },
 "nbformat": 4,
 "nbformat_minor": 2
}
