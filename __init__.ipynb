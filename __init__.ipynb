{
 "cells": [
  {
   "cell_type": "code",
   "execution_count": 1,
   "metadata": {},
   "outputs": [
    {
     "name": "stdout",
     "output_type": "stream",
     "text": [
      "from .camera import BatchCamera, Camera\n",
      "from .config import arg_as_list, get_configs\n",
      "from .dataset import generate_random_segment, generate_random_trajectory, get_aligned_init_torso, get_ap_pose_2d, get_backbone_line_from_torso, get_bounded_segments_idx, get_cam_param, get_h36m_camera_info, get_input, get_input_gt_for_onevec, get_label, get_limb_angle, get_model_input, get_output, get_pairs, get_part_traj, get_pose_seq_and_cam_param, get_two_point_parts, h36m_data_processing, load_h36m, load_segment_file_from_parameters, make_input, make_one_dimension_list, make_output, parse_args_by_model_name, split_continuous_indices, MyCustomDataset\n",
      "from .dh import DH_matrix, azim_elev_to_vec, batch_azim_elev_to_vec, batch_inverse_tf, batch_projection, batch_rot_x_matrix, batch_rot_y_matrix, batch_rot_z_matrix, build_dh_frame, calculate_azimuth_elevation, calculate_batch_azimuth_elevation, calculate_batch_azimuth_elevation2, calculate_rotation_quaternion, dist_between_points, distance_between_azim_elev, draw_arm, draw_subline, draw_torso_direction, frame_vec_to_matrix, generate_batch_tf_from_batch_origin_R, generate_camera_frame, generate_dh_frame, generate_tf_from_origin_R, generate_two_link, generate_vis_frame, generate_world_frame, get_batch_frame_vec_from_keypoints, get_batch_lower_torso_frame_from_keypoints, get_batch_lower_torso_frame_from_pose, get_batch_reference_frame, get_batch_upper_torso_frame_from_keypoints, get_batch_upper_torso_frame_from_pose, get_frame_from_keypoints, get_lower_torso_frame_from_pose, get_optimal_azimuth_elevation, get_reference_frame, get_torso_direction, get_torso_rotation_matrix, get_torso_shape, get_upper_torso_frame_from_pose, inverse_tf, normalize_vector, project_batch_tensor, projection, rotate_pose_by_R_for_batch, rotate_torso_by_R, rotate_torso_by_R_for_batch_tensor, rotation_distance, rotation_matrix_from_angle, rotation_matrix_to_vector_align, rotation_matrix_torso2torso, Appendage, BatchAppendage, BatchDHModel, DHModel\n",
      "from .inference import args_dict_to_namespace, construct_torso_from_output, denormalize_motionbert_result, get_dataset_info_from_segment_folder, get_inference_from_DHDSTformer_limb, get_inference_from_dhdst, get_inference_from_dhdst_torso, get_inference_from_motionbert, get_output_type, get_result, infer_one_segment, load_best_model_for_inference, normalize_input, test_model_by_segment_file\n",
      "from .logger import get_logger, log_configs\n",
      "from .model import init_weights, split_array_by_idxs, BaselineModel, Linear, TorsoModel\n",
      "from .test_utils import Camera2ImageCoordinate, MPJPE, MPJPE_for_multiple_pose, MPJPE_for_single_pose, World2CameraCoordinate, World2ImageCoordinate, _sqrt_positive_part, _weak_project, aihub2h36m, array2dict, avgErrorForOneAction, avgErrorForOneActor, avgErrorForOneCamera, camera_to_image_frame, change_bbox_convention, check_max_min, coco2h36m, convert3DResult, draw_skeleton, draw_skeleton_2d, draw_skeleton_both, euclidean_distance, fit3d2h36m, fit3d_load_gt_and_param, get3DResult, getAIHubCameraParameter, getGT, getNumFromImgName, get_batch_bbox_from_pose2d, get_batch_h36m_keypoints, get_bbox_area, get_bbox_area_from_pose2d, get_bbox_from_pose2d, get_h36m_keypoint_index, get_h36m_keypoints, get_h36m_limb_lens, get_pose_height, get_rootrel_pose, get_video_frame, get_video_info, get_xy_centered_pose, halpe2h36m, image_coordinates, infer_box, kookmin2h36m, kookmin2h36m_with_nose, loadAIHubCameraParameter, matrix_to_quaternion, mpi_inf_3dhp2h36m, mpi_inf_3dhp_original2posynda, normalize, normalize_array, normalize_screen_coordinates, optimize_scaling_factor, plot_cv2_image, procrustes_align, readJSON, readpkl, savepkl, skew_symmetric_matrix, skew_symmetric_matrix_tensor, standardize_quaternion\n",
      "from .train import check_duplicate_training, get_input_output_candidate, get_num_trial, load_args, load_best_model, load_dataset, load_model, prepare_training, run, run_epoch, save_args, split_array_by_idxs\n",
      "from .visualization import axes_2d, axes_3d, axes_to_compare_pred_gt, clear_axes, draw_2d_pose, draw_3d_pose, draw_bbox, draw_multiple_2d_pose, draw_multiple_3d_pose, draw_one_segment, draw_rotation_matrix, draw_segment, draw_segments, draw_trajectory, get_2d_pose_image, legend_without_duplicate_labels, plot_to_compare_pred_gt, save_h36m_pose_video, show2Dtrajectory, show3Dtrajectory, show_2d_3d, show_whole_segment_trajectories\n",
      "from .kookmin_dataset import check_available_frame, check_continuity, draw_base_marker_3d, generate_kookmin_pkl_for_each_video, get_cam_param_kookmin, get_lbot, get_video_frame_kookmin, get_video_num_frame_kookmin, load_csv_kookmin, load_pose3d_kookmin\n",
      "\n",
      "__all__ = ['BatchCamera', 'Camera', 'arg_as_list', 'get_configs', 'generate_random_segment', 'generate_random_trajectory', 'get_aligned_init_torso', 'get_ap_pose_2d', 'get_backbone_line_from_torso', 'get_bounded_segments_idx', 'get_cam_param', 'get_h36m_camera_info', 'get_input', 'get_input_gt_for_onevec', 'get_label', 'get_limb_angle', 'get_model_input', 'get_output', 'get_pairs', 'get_part_traj', 'get_pose_seq_and_cam_param', 'get_two_point_parts', 'h36m_data_processing', 'load_h36m', 'load_segment_file_from_parameters', 'make_input', 'make_one_dimension_list', 'make_output', 'parse_args_by_model_name', 'split_continuous_indices', 'MyCustomDataset', 'DH_matrix', 'azim_elev_to_vec', 'batch_azim_elev_to_vec', 'batch_inverse_tf', 'batch_projection', 'batch_rot_x_matrix', 'batch_rot_y_matrix', 'batch_rot_z_matrix', 'build_dh_frame', 'calculate_azimuth_elevation', 'calculate_batch_azimuth_elevation', 'calculate_batch_azimuth_elevation2', 'calculate_rotation_quaternion', 'dist_between_points', 'distance_between_azim_elev', 'draw_arm', 'draw_subline', 'draw_torso_direction', 'frame_vec_to_matrix', 'generate_batch_tf_from_batch_origin_R', 'generate_camera_frame', 'generate_dh_frame', 'generate_tf_from_origin_R', 'generate_two_link', 'generate_vis_frame', 'generate_world_frame', 'get_batch_frame_vec_from_keypoints', 'get_batch_lower_torso_frame_from_keypoints', 'get_batch_lower_torso_frame_from_pose', 'get_batch_reference_frame', 'get_batch_upper_torso_frame_from_keypoints', 'get_batch_upper_torso_frame_from_pose', 'get_frame_from_keypoints', 'get_lower_torso_frame_from_pose', 'get_optimal_azimuth_elevation', 'get_reference_frame', 'get_torso_direction', 'get_torso_rotation_matrix', 'get_torso_shape', 'get_upper_torso_frame_from_pose', 'inverse_tf', 'normalize_vector', 'project_batch_tensor', 'projection', 'rotate_pose_by_R_for_batch', 'rotate_torso_by_R', 'rotate_torso_by_R_for_batch_tensor', 'rotation_distance', 'rotation_matrix_from_angle', 'rotation_matrix_to_vector_align', 'rotation_matrix_torso2torso', 'Appendage', 'BatchAppendage', 'BatchDHModel', 'DHModel', 'args_dict_to_namespace', 'construct_torso_from_output', 'denormalize_motionbert_result', 'get_dataset_info_from_segment_folder', 'get_inference_from_DHDSTformer_limb', 'get_inference_from_dhdst', 'get_inference_from_dhdst_torso', 'get_inference_from_motionbert', 'get_output_type', 'get_result', 'infer_one_segment', 'load_best_model_for_inference', 'normalize_input', 'test_model_by_segment_file', 'get_logger', 'log_configs', 'init_weights', 'split_array_by_idxs', 'BaselineModel', 'Linear', 'TorsoModel', 'Camera2ImageCoordinate', 'MPJPE', 'MPJPE_for_multiple_pose', 'MPJPE_for_single_pose', 'World2CameraCoordinate', 'World2ImageCoordinate', '_sqrt_positive_part', '_weak_project', 'aihub2h36m', 'array2dict', 'avgErrorForOneAction', 'avgErrorForOneActor', 'avgErrorForOneCamera', 'camera_to_image_frame', 'change_bbox_convention', 'check_max_min', 'coco2h36m', 'convert3DResult', 'draw_skeleton', 'draw_skeleton_2d', 'draw_skeleton_both', 'euclidean_distance', 'fit3d2h36m', 'fit3d_load_gt_and_param', 'get3DResult', 'getAIHubCameraParameter', 'getGT', 'getNumFromImgName', 'get_batch_bbox_from_pose2d', 'get_batch_h36m_keypoints', 'get_bbox_area', 'get_bbox_area_from_pose2d', 'get_bbox_from_pose2d', 'get_h36m_keypoint_index', 'get_h36m_keypoints', 'get_h36m_limb_lens', 'get_pose_height', 'get_rootrel_pose', 'get_video_frame', 'get_video_info', 'get_xy_centered_pose', 'halpe2h36m', 'image_coordinates', 'infer_box', 'kookmin2h36m', 'kookmin2h36m_with_nose', 'loadAIHubCameraParameter', 'matrix_to_quaternion', 'mpi_inf_3dhp2h36m', 'mpi_inf_3dhp_original2posynda', 'normalize', 'normalize_array', 'normalize_screen_coordinates', 'optimize_scaling_factor', 'plot_cv2_image', 'procrustes_align', 'readJSON', 'readpkl', 'savepkl', 'skew_symmetric_matrix', 'skew_symmetric_matrix_tensor', 'standardize_quaternion', 'check_duplicate_training', 'get_input_output_candidate', 'get_num_trial', 'load_args', 'load_best_model', 'load_dataset', 'load_model', 'prepare_training', 'run', 'run_epoch', 'save_args', 'axes_2d', 'axes_3d', 'axes_to_compare_pred_gt', 'clear_axes', 'draw_2d_pose', 'draw_3d_pose', 'draw_bbox', 'draw_multiple_2d_pose', 'draw_multiple_3d_pose', 'draw_one_segment', 'draw_rotation_matrix', 'draw_segment', 'draw_segments', 'draw_trajectory', 'get_2d_pose_image', 'legend_without_duplicate_labels', 'plot_to_compare_pred_gt', 'save_h36m_pose_video', 'show2Dtrajectory', 'show3Dtrajectory', 'show_2d_3d', 'show_whole_segment_trajectories', 'check_available_frame', 'check_continuity', 'draw_base_marker_3d', 'generate_kookmin_pkl_for_each_video', 'get_cam_param_kookmin', 'get_lbot', 'get_video_frame_kookmin', 'get_video_num_frame_kookmin', 'load_csv_kookmin', 'load_pose3d_kookmin']\n"
     ]
    }
   ],
   "source": [
    "# To get all the functions and classes in my_utils\n",
    "%load_ext autoreload\n",
    "%autoreload 2\n",
    "\n",
    "from inspect import getmembers, isfunction, isclass, getsourcefile\n",
    "\n",
    "from my_utils import camera, config, dataset, dh, inference, logger, model, test_utils, train, visualization, kookmin_dataset\n",
    "from lib_import import lib_except_my_utils\n",
    "module_list = [camera, config, dataset, dh, inference, logger, model, test_utils, train, visualization, kookmin_dataset]\n",
    "all = \"\"\n",
    "lib_my_utils = []\n",
    "for module in module_list:\n",
    "    func_list = []\n",
    "    module_name = str(module).split(\"'\")[1].split('my_utils.')[1]\n",
    "    txt = 'from {} import '.format('.'+module_name)\n",
    "    for i in getmembers(module, isfunction):\n",
    "        if i[0] in lib_except_my_utils:\n",
    "            continue\n",
    "        source_file = getsourcefile(i[1])\n",
    "        #print(module_name, i[0], source_file)\n",
    "        if module_name not in source_file:\n",
    "            continue\n",
    "        txt += i[0] + ', '\n",
    "        if i[0] not in lib_my_utils:\n",
    "            lib_my_utils.append(i[0])\n",
    "            func_list.append(i[0])\n",
    "    for i in getmembers(module, isclass):\n",
    "        if i[0] in lib_except_my_utils:\n",
    "            continue\n",
    "        source_file = getsourcefile(i[1])\n",
    "        #print(i, source_file, module_name)\n",
    "        if module_name not in source_file:\n",
    "            continue\n",
    "        txt += i[0] + ', '\n",
    "        if i[0] not in lib_my_utils:\n",
    "            lib_my_utils.append(i[0])\n",
    "            func_list.append(i[0])\n",
    "    txt = txt[:-2]\n",
    "    print(txt)\n",
    "    #print(\"lib_{} =\".format(module_name), func_list)\n",
    "    all += \"lib_{} + \".format(module_name)\n",
    "print('\\n__all__ =', lib_my_utils)"
   ]
  },
  {
   "cell_type": "code",
   "execution_count": 2,
   "metadata": {},
   "outputs": [
    {
     "name": "stdout",
     "output_type": "stream",
     "text": [
      "('draw3d_arrow', <function draw3d_arrow at 0x7f04192ef4c0>)\n",
      "('get_calibration_matrix', <function get_calibration_matrix at 0x7f04192e7dc0>)\n",
      "('get_plane_from_three_points', <function get_plane_from_three_points at 0x7f04192ef550>)\n",
      "('get_plucker_matrix', <function get_plucker_matrix at 0x7f04192e7a60>)\n",
      "('get_projection_matrix', <function get_projection_matrix at 0x7f04192e7e50>)\n",
      "('get_rotation_matrix', <function get_rotation_matrix at 0x7f04192e7d30>)\n",
      "('glob', <function glob at 0x7f05bc0fc160>)\n",
      "('natsorted', <function natsorted at 0x7f0417b75ca0>)\n",
      "('null_space', <function null_space at 0x7f03b9670940>)\n",
      "('set_xyzlim3d', <function set_xyzlim3d at 0x7f04192ef5e0>)\n",
      "('set_xyzticks', <function set_xyzticks at 0x7f04192ef670>)\n",
      "('to_homogeneus', <function to_homogeneus at 0x7f04192e7940>)\n",
      "('to_inhomogeneus', <function to_inhomogeneus at 0x7f04192e78b0>)\n"
     ]
    }
   ],
   "source": [
    "for i in getmembers(camera, isfunction):\n",
    "    print(i)"
   ]
  },
  {
   "cell_type": "markdown",
   "metadata": {},
   "source": [
    "### ipywidget_utils"
   ]
  },
  {
   "cell_type": "code",
   "execution_count": 10,
   "metadata": {},
   "outputs": [
    {
     "name": "stdout",
     "output_type": "stream",
     "text": [
      "The autoreload extension is already loaded. To reload it, use:\n",
      "  %reload_ext autoreload\n",
      "from .button import get_analysis_dh_button, get_analysis_error_button, get_go_to_max_frame_button, get_inference_button, get_procrustes_button, get_reset_button, get_root_rel_button, get_toggle_button, get_visualize_button\n",
      "from .dropdown import get_dataset_list_dropdown, get_model_list_dropdown\n",
      "from .play import get_play_vis_button\n",
      "from .progress import get_inference_progress\n",
      "from .select import get_action_select, get_batch_select, get_cam_select, get_part_select, get_part_select2, get_subject_select\n",
      "from .slider import get_azim_slider, get_delay_slider, get_elev_slider, get_frame_slider, get_trans_slider, get_zoom_slider\n",
      "from .text import get_batch_num_text, get_error_max_frame_text, get_float_text, get_frame_num_text, get_gts_all_shape_text, get_inputs_all_shape_text, get_results_all_shape_text, get_str_text\n",
      "\n",
      "__all__ = ['get_analysis_dh_button', 'get_analysis_error_button', 'get_go_to_max_frame_button', 'get_inference_button', 'get_procrustes_button', 'get_reset_button', 'get_root_rel_button', 'get_toggle_button', 'get_visualize_button', 'get_dataset_list_dropdown', 'get_model_list_dropdown', 'get_play_vis_button', 'get_inference_progress', 'get_action_select', 'get_batch_select', 'get_cam_select', 'get_part_select', 'get_part_select2', 'get_subject_select', 'get_azim_slider', 'get_delay_slider', 'get_elev_slider', 'get_frame_slider', 'get_trans_slider', 'get_zoom_slider', 'get_batch_num_text', 'get_error_max_frame_text', 'get_float_text', 'get_frame_num_text', 'get_gts_all_shape_text', 'get_inputs_all_shape_text', 'get_results_all_shape_text', 'get_str_text']\n"
     ]
    }
   ],
   "source": [
    "# To get all the functions and classes in ipywidget_utils\n",
    "%load_ext autoreload\n",
    "%autoreload 2\n",
    "\n",
    "from inspect import getmembers, isfunction, isclass, getsourcefile\n",
    "\n",
    "from ipywidgets_utils import button, dropdown, play, progress, select, slider, text\n",
    "from lib_import import lib_except_my_utils\n",
    "module_list = [button, dropdown, play, progress, select, slider, text]\n",
    "all = \"\"\n",
    "lib_my_utils = []\n",
    "for module in module_list:\n",
    "    func_list = []\n",
    "    module_name = str(module).split(\"'\")[1].split('ipywidgets_utils.')[1]\n",
    "    txt = 'from {} import '.format('.'+module_name)\n",
    "    for i in getmembers(module, isfunction):\n",
    "        if i[0] in lib_except_my_utils:\n",
    "            continue\n",
    "        source_file = getsourcefile(i[1])\n",
    "        #print(module_name, i[0], source_file)\n",
    "        if module_name not in source_file:\n",
    "            continue\n",
    "        txt += i[0] + ', '\n",
    "        if i[0] not in lib_my_utils:\n",
    "            lib_my_utils.append(i[0])\n",
    "            func_list.append(i[0])\n",
    "    for i in getmembers(module, isclass):\n",
    "        if i[0] in lib_except_my_utils:\n",
    "            continue\n",
    "        source_file = getsourcefile(i[1])\n",
    "        #print(i, source_file, module_name)\n",
    "        if module_name not in source_file:\n",
    "            continue\n",
    "        txt += i[0] + ', '\n",
    "        if i[0] not in lib_my_utils:\n",
    "            lib_my_utils.append(i[0])\n",
    "            func_list.append(i[0])\n",
    "    txt = txt[:-2]\n",
    "    print(txt)\n",
    "    #print(\"lib_{} =\".format(module_name), func_list)\n",
    "    all += \"lib_{} + \".format(module_name)\n",
    "print('\\n__all__ =', lib_my_utils)"
   ]
  },
  {
   "cell_type": "code",
   "execution_count": null,
   "metadata": {},
   "outputs": [],
   "source": []
  }
 ],
 "metadata": {
  "kernelspec": {
   "display_name": "adaptpose",
   "language": "python",
   "name": "python3"
  },
  "language_info": {
   "codemirror_mode": {
    "name": "ipython",
    "version": 3
   },
   "file_extension": ".py",
   "mimetype": "text/x-python",
   "name": "python",
   "nbconvert_exporter": "python",
   "pygments_lexer": "ipython3",
   "version": "3.9.18"
  }
 },
 "nbformat": 4,
 "nbformat_minor": 2
}
